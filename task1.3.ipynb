{
 "cells": [
  {
   "cell_type": "markdown",
   "metadata": {},
   "source": [
    "# <a id=\"#\">Task 1.3 – Welcome to Python programming!</a>\n",
    "\n",
    "This is a **Jupyter notebook**. It is a powerful tool, that permits you to\n",
    "\n",
    "- write **Python code**,\n",
    "- gather your **analysis results**,\n",
    "- and document your **ideas**, **observations**, and **conclusions**\n",
    "\n",
    "in a **single self-contained environment**!\n",
    "\n",
    "## Notebook Structure\n",
    "\n",
    "Each notebook consists of a sequence of so-called **cells**. Think of a cell as a *page* of your notebook. Each cell has a *type*, which usually is either **Code** or **Markdown**. Code cells permit you to write (and execute!) Python code. They consist of an *Input* section, where you write your code, and an *Output* section, which displays errors and execution results. Markdown cells are for writing **documentation**. This is very important since it helps you to keep your notebook organized, such that you (and others) will understand what you were doing when you conducted a specific analysis.\n",
    "\n",
    "## Code cells\n",
    "\n",
    "**<a id=\"#\">Task 1.3.1.</a>** Below, you see a code cell (\"`print…`\" and so on). Click on this cell and press `[Ctrl]`+`[⏎]` to run this cell (or click the ▷ button which appears right to the left of the cell when you move the mouse pointer over the cell).\n",
    "\n",
    "<div class=\"alert alert-block alert-info\"><b>Hint:</b> In some rare cases you might be asked for a kernel. If so, click \"Python environments\" and then \"Python 3.11.6\".</div>\n",
    "\n",
    "Notice how the output of the Python instructions (printing a specific line of text) magically appears within the *Output* section of the code cell! "
   ]
  },
  {
   "cell_type": "code",
   "execution_count": 1,
   "metadata": {},
   "outputs": [
    {
     "name": "stdout",
     "output_type": "stream",
     "text": [
      "Welcome to Python Programming!\n"
     ]
    }
   ],
   "source": [
    "print('Welcome to Python Programming!')"
   ]
  },
  {
   "cell_type": "markdown",
   "metadata": {},
   "source": [
    "**<a id=\"#\">Task 1.3.2.</a>** Modify the above code cell. For example, change the welcome text, add a second `print`-statement, etc."
   ]
  },
  {
   "cell_type": "code",
   "execution_count": 2,
   "metadata": {},
   "outputs": [
    {
     "name": "stdout",
     "output_type": "stream",
     "text": [
      "Hello\n"
     ]
    }
   ],
   "source": [
    "print('Hello')"
   ]
  },
  {
   "cell_type": "markdown",
   "metadata": {},
   "source": [
    "## Markdown cells\n",
    "\n",
    "<div class=\"alert alert-block alert-warning\">\n",
    "<b>Hint:</b> Do <em>not</em> spend more than 10–15 minutes for the <b>Tasks 1.3.3–1.3.5</b>!\n",
    "</div>"
   ]
  },
  {
   "cell_type": "markdown",
   "metadata": {},
   "source": [
    "**<a id=\"#\">Task 1.3.3.</a>** Below you see an empty Markdown cell. Markdown cells are not used for code, but for documentation. Type \"`The job was done.`\" into the cell and again press `[Ctrl]`+`[⏎]`, or click the ▷ button. Notice how this time no code is executed, but your entered text rather becomes a part of the text flow of the notebook."
   ]
  },
  {
   "cell_type": "markdown",
   "metadata": {},
   "source": [
    "the job was **done**"
   ]
  },
  {
   "cell_type": "markdown",
   "metadata": {},
   "source": [
    "**<a id=\"#\">Task 1.3.4.</a>** Markdown is not only about plain boring text. It is a very simple and widely used hypertext language which allows text formatting. Make yourself a little familiar with the Markdown syntax by [clicking here](https://jupyter-notebook.readthedocs.io/en/stable/examples/Notebook/Working%20With%20Markdown%20Cells.html).\n",
    "\n",
    "**<a id=\"#\">Task 1.3.5.</a>** Double-click on your previously created Markdown cell above to enter its editing mode. Change the text, experiment with the Markdown language. For example, add some words, make words bold-typed, etc. You can also embed a YouTube video."
   ]
  },
  {
   "cell_type": "markdown",
   "metadata": {},
   "source": [
    "## Extending the notebook\n",
    "\n",
    "Notice the line of buttons at the top edge of the screen:\n",
    "\n",
    "![screenshot](images/vscode-toolbar.png)\n",
    "\n",
    "Using these buttons allows you to control the notebook (and its cells).\n",
    "\n",
    "**<a id=\"#\">Task 1.3.6.</a>** Feel free to play around with the cell structure of this notebook. Make yourself familiar with how cells are added (using the buttons above), moved (drag & drop), and copied (right click). However, if you feel like you could use some guidance, then follow these instructions:\n",
    "\n",
    "1. Using the line of buttons at the top edge of the screen, create a new code cell.\n",
    "2. Enter the code \"`2 + 3`\" into the input section of the newly created cell.\n",
    "3. Make sure that the cell is still selected, then press `[Ctrl]`+`[⏎]` to run the code.\n",
    "4. Notice how the arithmetical result appears.\n",
    "5. Move the cell to some other place in the notebook.\n",
    "\n",
    "**<a id=\"#\">Task 1.3.7.</a>** Return to your assignment sheet when you feel like you have gotten an idea of how notebooks work."
   ]
  },
  {
   "cell_type": "markdown",
   "metadata": {},
   "source": [
    "Markdown 2+3"
   ]
  },
  {
   "cell_type": "code",
   "execution_count": 3,
   "metadata": {},
   "outputs": [
    {
     "data": {
      "text/plain": [
       "5"
      ]
     },
     "execution_count": 3,
     "metadata": {},
     "output_type": "execute_result"
    }
   ],
   "source": [
    "2+3"
   ]
  },
  {
   "cell_type": "markdown",
   "metadata": {},
   "source": [
    "2+3 copied"
   ]
  },
  {
   "cell_type": "markdown",
   "metadata": {},
   "source": [
    "*1. eintrag \n",
    "*2."
   ]
  },
  {
   "cell_type": "markdown",
   "metadata": {},
   "source": [
    "Randon Python Übungen für Klausur "
   ]
  },
  {
   "cell_type": "code",
   "execution_count": 11,
   "metadata": {},
   "outputs": [
    {
     "name": "stdout",
     "output_type": "stream",
     "text": [
      "1  2  3  4  5  6  7  8  9  10  2  4  6  8  10  12  14  16  18  20  3  6  9  12  15  18  21  24  27  30  4  8  12  16  20  24  28  32  36  40  5  10  15  20  25  30  35  40  45  50  6  12  18  24  30  36  42  48  54  60  7  14  21  28  35  42  49  56  63  70  8  16  24  32  40  48  56  64  72  80  9  18  27  36  45  54  63  72  81  90  10  20  30  40  50  60  70  80  90  100  "
     ]
    }
   ],
   "source": [
    "for x in range(1, 11):\n",
    "    for i in range(1,11):\n",
    "        print(x*i, ' ', end='')\n",
    "    #print()"
   ]
  },
  {
   "cell_type": "code",
   "execution_count": 12,
   "metadata": {},
   "outputs": [
    {
     "name": "stdout",
     "output_type": "stream",
     "text": [
      "1  2  3  4  5  6  7  8  9  10  \n",
      "2  4  6  8  10  12  14  16  18  20  \n",
      "3  6  9  12  15  18  21  24  27  30  \n",
      "4  8  12  16  20  24  28  32  36  40  \n",
      "5  10  15  20  25  30  35  40  45  50  \n",
      "6  12  18  24  30  36  42  48  54  60  \n",
      "7  14  21  28  35  42  49  56  63  70  \n",
      "8  16  24  32  40  48  56  64  72  80  \n",
      "9  18  27  36  45  54  63  72  81  90  \n",
      "10  20  30  40  50  60  70  80  90  100  \n"
     ]
    }
   ],
   "source": [
    "for x in range(1, 11):\n",
    "    for i in range(1,11):\n",
    "        print(x*i, ' ', end='')\n",
    "    print()"
   ]
  },
  {
   "cell_type": "code",
   "execution_count": 14,
   "metadata": {},
   "outputs": [
    {
     "name": "stdout",
     "output_type": "stream",
     "text": [
      "01  02  03  04  05  06  07  08  09  10  \n",
      "02  04  06  08  10  12  14  16  18  20  \n",
      "03  06  09  12  15  18  21  24  27  30  \n",
      "04  08  12  16  20  24  28  32  36  40  \n",
      "05  10  15  20  25  30  35  40  45  50  \n",
      "06  12  18  24  30  36  42  48  54  60  \n",
      "07  14  21  28  35  42  49  56  63  70  \n",
      "08  16  24  32  40  48  56  64  72  80  \n",
      "09  18  27  36  45  54  63  72  81  90  \n",
      "10  20  30  40  50  60  70  80  90  100  \n"
     ]
    }
   ],
   "source": [
    "for x in range(1, 11):\n",
    "    for i in range(1,11):\n",
    "        s = x*i\n",
    "        if s<10:\n",
    "            print('0', end='') \n",
    "        print(s, ' ', end='' )\n",
    "    print()"
   ]
  },
  {
   "cell_type": "code",
   "execution_count": 21,
   "metadata": {},
   "outputs": [
    {
     "name": "stdout",
     "output_type": "stream",
     "text": [
      "1\n",
      "2\n",
      "3\n",
      "4\n",
      "5\n",
      "6\n",
      "7\n",
      "8\n",
      "9\n",
      "10\n"
     ]
    }
   ],
   "source": [
    "x=1\n",
    "while x <= 10: \n",
    "    print(x)\n",
    "    x=x+1   \n"
   ]
  },
  {
   "cell_type": "code",
   "execution_count": 22,
   "metadata": {},
   "outputs": [
    {
     "name": "stdout",
     "output_type": "stream",
     "text": [
      "dlroW olleH\n"
     ]
    }
   ],
   "source": [
    "result = ''\n",
    "for character in 'Hello World': \n",
    "    result = character + result\n",
    "print(result)"
   ]
  },
  {
   "cell_type": "code",
   "execution_count": 25,
   "metadata": {},
   "outputs": [
    {
     "name": "stdout",
     "output_type": "stream",
     "text": [
      "1  2  3  4  5  6  7  8  9  10  2  4  6  8  10  12  14  16  18  20  3  6  9  12  15  18  21  24  27  30  4  8  12  16  20  24  28  32  36  40  5  10  15  20  25  30  35  40  45  50  6  12  18  24  30  36  42  48  54  60  7  14  21  28  35  42  49  56  63  70  8  16  24  32  40  48  56  64  72  80  9  18  27  36  45  54  63  72  81  90  10  20  30  40  50  60  70  80  90  100  "
     ]
    }
   ],
   "source": [
    "for x in range(1, 11):\n",
    "    for i in range(1,11):\n",
    "        result = x*i\n",
    "        print(result, ' ', end='')\n",
    "    #print(Reihe)"
   ]
  },
  {
   "cell_type": "code",
   "execution_count": 31,
   "metadata": {},
   "outputs": [
    {
     "name": "stdout",
     "output_type": "stream",
     "text": [
      "01 02 03 04 05 06 07 08 09 10 \n",
      "02 04 06 08 10 12 14 16 18 20 \n",
      "03 06 09 12 15 18 21 24 27 30 \n",
      "04 08 12 16 20 24 28 32 36 40 \n",
      "05 10 15 20 25 30 35 40 45 50 \n",
      "06 12 18 24 30 36 42 48 54 60 \n",
      "07 14 21 28 35 42 49 56 63 70 \n",
      "08 16 24 32 40 48 56 64 72 80 \n",
      "09 18 27 36 45 54 63 72 81 90 \n",
      "10 20 30 40 50 60 70 80 90 100 \n"
     ]
    }
   ],
   "source": [
    "for x in range(1, 11):\n",
    "    for i in range(1,11):\n",
    "        s = x*i\n",
    "        if s<10:\n",
    "            print('0', end='') \n",
    "        print(s,'', end='' )\n",
    "    print()"
   ]
  }
 ],
 "metadata": {
  "kernelspec": {
   "display_name": "Python 3",
   "language": "python",
   "name": "python3"
  },
  "language_info": {
   "codemirror_mode": {
    "name": "ipython",
    "version": 3
   },
   "file_extension": ".py",
   "mimetype": "text/x-python",
   "name": "python",
   "nbconvert_exporter": "python",
   "pygments_lexer": "ipython3",
   "version": "3.11.6"
  }
 },
 "nbformat": 4,
 "nbformat_minor": 2
}
